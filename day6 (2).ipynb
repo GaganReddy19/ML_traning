{
  "nbformat": 4,
  "nbformat_minor": 0,
  "metadata": {
    "colab": {
      "provenance": []
    },
    "kernelspec": {
      "name": "python3",
      "display_name": "Python 3"
    },
    "language_info": {
      "name": "python"
    }
  },
  "cells": [
    {
      "cell_type": "code",
      "execution_count": null,
      "metadata": {
        "id": "9K4-z1iAdtos"
      },
      "outputs": [],
      "source": []
    },
    {
      "cell_type": "code",
      "source": [
        "x=9\n",
        "if x%2==0:\n",
        "  print(\"Even\")\n",
        "else:\n",
        "  print(\"odd\")"
      ],
      "metadata": {
        "id": "myJ2bgeteIjj"
      },
      "execution_count": null,
      "outputs": []
    },
    {
      "cell_type": "code",
      "source": [
        "x=8"
      ],
      "metadata": {
        "id": "mQiEexyqeWZc"
      },
      "execution_count": null,
      "outputs": []
    },
    {
      "cell_type": "code",
      "source": [
        "x%2"
      ],
      "metadata": {
        "id": "p5Ksq23GeYuC"
      },
      "execution_count": null,
      "outputs": []
    },
    {
      "cell_type": "code",
      "source": [
        "x%2==0"
      ],
      "metadata": {
        "id": "cCFe3VbBefXe"
      },
      "execution_count": null,
      "outputs": []
    },
    {
      "cell_type": "code",
      "source": [
        "wap to know number is positive negative or zero"
      ],
      "metadata": {
        "id": "77O3RtSTexA8"
      },
      "execution_count": null,
      "outputs": []
    },
    {
      "cell_type": "code",
      "source": [
        "x=6.2\n",
        "if x>0:\n",
        "  print('+')\n",
        "elif x>0:\n",
        "  print('neg')\n",
        "else:\n",
        "  print(\"zero\")"
      ],
      "metadata": {
        "colab": {
          "base_uri": "https://localhost:8080/"
        },
        "id": "FI8Mj6hwfB9y",
        "outputId": "f9fec886-1977-4f85-a359-a3b55d5116da"
      },
      "execution_count": null,
      "outputs": [
        {
          "output_type": "stream",
          "name": "stdout",
          "text": [
            "+\n"
          ]
        }
      ]
    },
    {
      "cell_type": "code",
      "source": [
        "y=10\n",
        "if y>5:\n",
        "  print('M')\n",
        "elif y>4:\n",
        "  print('K')\n",
        "elif y>7:\n",
        "  print('H')\n",
        "else:\n",
        "  print('O')"
      ],
      "metadata": {
        "id": "3-jlte-tgW7L"
      },
      "execution_count": null,
      "outputs": []
    },
    {
      "cell_type": "code",
      "source": [
        "x>5"
      ],
      "metadata": {
        "id": "FQM_fCqFg8v-"
      },
      "execution_count": null,
      "outputs": []
    },
    {
      "cell_type": "code",
      "source": [
        "t='Ongole'"
      ],
      "metadata": {
        "id": "b3iyVeEcj7Gb"
      },
      "execution_count": null,
      "outputs": []
    },
    {
      "cell_type": "code",
      "source": [
        "type(t)"
      ],
      "metadata": {
        "id": "8HJr24Wzj-fm"
      },
      "execution_count": null,
      "outputs": []
    },
    {
      "cell_type": "code",
      "source": [
        "t.upper()"
      ],
      "metadata": {
        "id": "3GWncMkEkAWK"
      },
      "execution_count": null,
      "outputs": []
    },
    {
      "cell_type": "code",
      "source": [
        "x='Ongole'\n",
        "x='Orange'\n",
        "x='ong'"
      ],
      "metadata": {
        "id": "bpnwTOBTkF4b"
      },
      "execution_count": null,
      "outputs": []
    },
    {
      "cell_type": "code",
      "source": [
        "x='lion'\n",
        "x='guntur'"
      ],
      "metadata": {
        "id": "yL-BxKL4ku0c"
      },
      "execution_count": null,
      "outputs": []
    },
    {
      "cell_type": "code",
      "source": [
        "x='telangana'\n",
        "if x[0]=='t' or x[0]=='T' :\n",
        "  print('Yes')\n",
        "else:\n",
        "  print('No')"
      ],
      "metadata": {
        "id": "Eme32TtYlo_L"
      },
      "execution_count": null,
      "outputs": []
    },
    {
      "cell_type": "code",
      "source": [
        "x='shaupure'\n",
        "if x[0]=='s' or x[0]=='S' :\n",
        "  print('Yes')\n",
        "else:\n",
        "  print('No')\n"
      ],
      "metadata": {
        "id": "oTgY21qbmR7L"
      },
      "execution_count": null,
      "outputs": []
    },
    {
      "cell_type": "code",
      "source": [
        "x='Gagan'\n",
        "if x[0].lower()=='g' :\n",
        "  print('Yes')\n",
        "else:\n",
        "  print('No')"
      ],
      "metadata": {
        "id": "vde7hvYGpMha"
      },
      "execution_count": null,
      "outputs": []
    },
    {
      "cell_type": "code",
      "source": [
        "if x[0]=='s' or x[0]=='s' or x[0]=='m' or x[0]=='M' or x[0]='h' or x[0]=='h':\n",
        "  print('Yes')\n",
        "else:\n",
        "  print('No')"
      ],
      "metadata": {
        "id": "r1iEU2v_p9FI"
      },
      "execution_count": null,
      "outputs": []
    }
  ]
}