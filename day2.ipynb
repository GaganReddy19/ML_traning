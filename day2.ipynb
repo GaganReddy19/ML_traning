{
  "nbformat": 4,
  "nbformat_minor": 0,
  "metadata": {
    "colab": {
      "provenance": []
    },
    "kernelspec": {
      "name": "python3",
      "display_name": "Python 3"
    },
    "language_info": {
      "name": "python"
    }
  },
  "cells": [
    {
      "cell_type": "code",
      "source": [
        "addition  +\n",
        "substraction  -\n",
        "multiplication  *\n",
        "division  /\n",
        "modules  %\n",
        "power  **"
      ],
      "metadata": {
        "id": "Rw3TEmOSTdjM"
      },
      "execution_count": null,
      "outputs": []
    },
    {
      "cell_type": "code",
      "source": [
        "a = 5\n",
        "b = 4\n",
        "c=a+b\n",
        "e=a**b\n",
        "f=a/b\n",
        "g=a*b\n",
        "h=a//b\n",
        "print(c)\n",
        "print(b)\n",
        "print(e)\n",
        "print(f)\n",
        "print(g)\n",
        "print(h)"
      ],
      "metadata": {
        "colab": {
          "base_uri": "https://localhost:8080/"
        },
        "id": "YHnR4zrnTfNE",
        "outputId": "c7c26975-7727-4b66-cbcf-1317ee41d431"
      },
      "execution_count": null,
      "outputs": [
        {
          "output_type": "stream",
          "name": "stdout",
          "text": [
            "9\n",
            "4\n",
            "625\n",
            "1.25\n",
            "20\n",
            "1\n"
          ]
        }
      ]
    },
    {
      "cell_type": "code",
      "source": [
        "# Assignment Operators\n",
        "a=10\n",
        "b=5\n",
        "c=a>b\n",
        "d=a<b\n",
        "e=(a==b)\n",
        "f=(a>=b)\n",
        "g=(a<=b)\n",
        "print(c)\n",
        "print(d)\n",
        "print(e)\n",
        "print(f)\n",
        "print(g)"
      ],
      "metadata": {
        "colab": {
          "base_uri": "https://localhost:8080/"
        },
        "id": "UAq7czKDVJo2",
        "outputId": "b60dc62c-d59d-4ae3-d0cd-edf9006d564e"
      },
      "execution_count": null,
      "outputs": [
        {
          "output_type": "stream",
          "name": "stdout",
          "text": [
            "True\n",
            "False\n",
            "False\n",
            "True\n",
            "False\n"
          ]
        }
      ]
    },
    {
      "cell_type": "code",
      "source": [
        "# Logical Operator\n",
        "a=30\n",
        "b=20\n",
        "c=(a>b) and (a>100)\n",
        "d=(a>b) or (a>100)\n",
        "print(c)\n",
        "print(d)"
      ],
      "metadata": {
        "colab": {
          "base_uri": "https://localhost:8080/"
        },
        "id": "tMMWcn-0YHN_",
        "outputId": "ca1a99c7-2326-41b3-8182-25fd7c6393d5"
      },
      "execution_count": null,
      "outputs": [
        {
          "output_type": "stream",
          "name": "stdout",
          "text": [
            "False\n",
            "True\n"
          ]
        }
      ]
    },
    {
      "cell_type": "code",
      "source": [
        "# q1\n",
        "x=34.56\n",
        "y=3.5\n",
        "\n",
        "#all arithmatic operators\n",
        "#all comparison operators\n",
        "#and or"
      ],
      "metadata": {
        "id": "SV4IKys5dgr8"
      },
      "execution_count": null,
      "outputs": []
    },
    {
      "cell_type": "code",
      "source": [
        "s= x+y"
      ],
      "metadata": {
        "id": "C3Jx5dk3e16-"
      },
      "execution_count": null,
      "outputs": []
    },
    {
      "cell_type": "markdown",
      "source": [
        "addition  +\n",
        "substraction  -\n",
        "multiplication  *\n",
        "division  /\n",
        "modules  %\n",
        "power  **\n"
      ],
      "metadata": {
        "id": "y2f13mrAUcLg"
      }
    }
  ]
}